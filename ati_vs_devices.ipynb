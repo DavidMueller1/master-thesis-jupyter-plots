{
 "cells": [
  {
   "metadata": {},
   "cell_type": "markdown",
   "source": [
    "# First Piechart Example\n",
    "This is a work in progress.  I am trying to create a pie chart using matplotlib."
   ],
   "id": "65ddfdec0d490a80"
  },
  {
   "metadata": {
    "ExecuteTime": {
     "end_time": "2024-07-12T11:33:32.222856Z",
     "start_time": "2024-07-12T11:33:29.182320Z"
    }
   },
   "cell_type": "code",
   "source": [
    "import logging\n",
    "import matplotlib.pyplot as plt\n",
    "import matplotlib.patches as mpatches\n",
    "import pandas as pd\n",
    "\n",
    "logging.basicConfig(level=logging.INFO)\n",
    "logger = logging.getLogger(__name__)\n",
    "\n",
    "ati_data = [5.22, 2.33, 3.78, 4.33, 4.77, 2.89, 5, 5.78, 5.11]\n",
    "devices_data = [20, 20, 1, 1, 8, 8, 16, 16, 16]\n",
    "pilot_passenger_data = [1, 0, 0, 1, 1, 0, 0, 1, 0]\n",
    "\n",
    "\n",
    "# Convert pilot_passenger_data to colors\n",
    "colors = ['indianred' if user == 1 else 'cornflowerblue' for user in pilot_passenger_data]\n",
    "\n",
    "# Create the scatter plot\n",
    "fig = plt.figure(figsize=(4, 3))\n",
    "dots = plt.scatter(devices_data, ati_data, c=colors)\n",
    "\n",
    "patch_list = []\n",
    "patch_list.append(mpatches.Patch(color='indianred', label='Pilot'))\n",
    "patch_list.append(mpatches.Patch(color='cornflowerblue', label='Passenger'))\n",
    "\n",
    "plt.ylim(1, 6)\n",
    "# Add labels and title\n",
    "plt.xlabel('Devices in Household')\n",
    "plt.ylabel('ATI Score')\n",
    "plt.legend(handles=patch_list, loc='lower left')\n",
    "# plt.title('ATI vs Devices for Pilot (Red) and Passenger (Blue) Users')\n",
    "\n",
    "# Show the plot\n",
    "plt.grid(True)\n",
    "\n",
    "# Save as a PNG file\n",
    "plt.savefig('output/ati_vs_devices.png', bbox_inches='tight')\n",
    "\n",
    "# Save as a PDF file\n",
    "plt.savefig('output/ati_vs_devices.pdf', bbox_inches='tight')\n",
    "\n",
    "plt.show()\n"
   ],
   "id": "initial_id",
   "outputs": [
    {
     "data": {
      "text/plain": [
       "<Figure size 400x300 with 1 Axes>"
      ],
      "image/png": "[encoded data removed]"
     },
     "metadata": {},
     "output_type": "display_data"
    }
   ],
   "execution_count": 1
  },
  {
   "metadata": {
    "ExecuteTime": {
     "end_time": "2024-07-12T15:02:23.687329Z",
     "start_time": "2024-07-12T15:02:23.611233Z"
    }
   },
   "cell_type": "code",
   "source": [
    "import logging\n",
    "from scipy.stats import pearsonr, spearmanr\n",
    "\n",
    "logging.basicConfig(level=logging.INFO)\n",
    "logger = logging.getLogger(__name__)\n",
    "\n",
    "# ati_data = [5.22, 2.33, 3.78, 4.33, 4.77, 2.89, 5, 5.78, 5.11]\n",
    "# devices_data = [20, 20, 1, 1, 8, 8, 16, 16, 16]\n",
    "# pilot_passenger_data = [1, 0, 0, 1, 1, 0, 0, 1, 0]\n",
    "\n",
    "ati_data = [5.22, 2.33, 3.78, 4.33, 4.77, 2.89, 5, 5.78, 5.11]\n",
    "devices_data = [20, 20, 1, 1, 8, 8, 16, 16, 16]\n",
    "pilot_passenger_data = [1, 0, 0, 1, 1, 0, 0, 1, 0]\n",
    "\n",
    "# Filter data to only include pilot users\n",
    "ati_data = [ati_data[i] for i in range(len(ati_data)) if pilot_passenger_data[i] == 1]\n",
    "devices_data = [devices_data[i] for i in range(len(devices_data)) if pilot_passenger_data[i] == 1]\n",
    "\n",
    "logger.info(f'ATI data: {ati_data}')\n",
    "\n",
    "# Calculate the Pearson correlation coefficient and p-value\n",
    "correlation_coefficient, p_value = spearmanr(ati_data, devices_data)\n",
    "\n",
    "print(\"Correlation coefficient:\", correlation_coefficient)\n",
    "print(\"P-value:\", p_value)\n",
    "\n",
    "# same for ati and pilot_passenger\n",
    "correlation_coefficient, p_value = spearmanr(ati_data, pilot_passenger_data)\n",
    "\n",
    "print(\"Correlation coefficient:\", correlation_coefficient)\n",
    "print(\"P-value:\", p_value)\n",
    "\n",
    "# same for devices and pilot_passenger\n",
    "correlation_coefficient, p_value = spearmanr(devices_data, pilot_passenger_data)\n",
    "\n",
    "print(\"Correlation coefficient:\", correlation_coefficient)\n",
    "print(\"P-value:\", p_value)"
   ],
   "id": "572f46ba4e0780c",
   "outputs": [
    {
     "name": "stderr",
     "output_type": "stream",
     "text": [
      "INFO:__main__:ATI data: [5.22, 4.33, 4.77, 5.78]\n"
     ]
    },
    {
     "name": "stdout",
     "output_type": "stream",
     "text": [
      "Correlation coefficient: 0.7999999999999999\n",
      "P-value: 0.20000000000000007\n"
     ]
    },
    {
     "ename": "ValueError",
     "evalue": "all the input array dimensions except for the concatenation axis must match exactly, but along dimension 0, the array at index 0 has size 4 and the array at index 1 has size 9",
     "output_type": "error",
     "traceback": [
      "\u001B[1;31m---------------------------------------------------------------------------\u001B[0m",
      "\u001B[1;31mValueError\u001B[0m                                Traceback (most recent call last)",
      "Cell \u001B[1;32mIn[8], line 28\u001B[0m\n\u001B[0;32m     25\u001B[0m \u001B[38;5;28mprint\u001B[39m(\u001B[38;5;124m\"\u001B[39m\u001B[38;5;124mP-value:\u001B[39m\u001B[38;5;124m\"\u001B[39m, p_value)\n\u001B[0;32m     27\u001B[0m \u001B[38;5;66;03m# same for ati and pilot_passenger\u001B[39;00m\n\u001B[1;32m---> 28\u001B[0m correlation_coefficient, p_value \u001B[38;5;241m=\u001B[39m spearmanr(ati_data, pilot_passenger_data)\n\u001B[0;32m     30\u001B[0m \u001B[38;5;28mprint\u001B[39m(\u001B[38;5;124m\"\u001B[39m\u001B[38;5;124mCorrelation coefficient:\u001B[39m\u001B[38;5;124m\"\u001B[39m, correlation_coefficient)\n\u001B[0;32m     31\u001B[0m \u001B[38;5;28mprint\u001B[39m(\u001B[38;5;124m\"\u001B[39m\u001B[38;5;124mP-value:\u001B[39m\u001B[38;5;124m\"\u001B[39m, p_value)\n",
      "File \u001B[1;32m~\\miniconda3\\Lib\\site-packages\\scipy\\stats\\_stats_py.py:5375\u001B[0m, in \u001B[0;36mspearmanr\u001B[1;34m(a, b, axis, nan_policy, alternative)\u001B[0m\n\u001B[0;32m   5373\u001B[0m b, _ \u001B[38;5;241m=\u001B[39m _chk_asarray(b, axis)\n\u001B[0;32m   5374\u001B[0m \u001B[38;5;28;01mif\u001B[39;00m axisout \u001B[38;5;241m==\u001B[39m \u001B[38;5;241m0\u001B[39m:\n\u001B[1;32m-> 5375\u001B[0m     a \u001B[38;5;241m=\u001B[39m np\u001B[38;5;241m.\u001B[39mcolumn_stack((a, b))\n\u001B[0;32m   5376\u001B[0m \u001B[38;5;28;01melse\u001B[39;00m:\n\u001B[0;32m   5377\u001B[0m     a \u001B[38;5;241m=\u001B[39m np\u001B[38;5;241m.\u001B[39mvstack((a, b))\n",
      "File \u001B[1;32m~\\miniconda3\\Lib\\site-packages\\numpy\\lib\\shape_base.py:652\u001B[0m, in \u001B[0;36mcolumn_stack\u001B[1;34m(tup)\u001B[0m\n\u001B[0;32m    650\u001B[0m         arr \u001B[38;5;241m=\u001B[39m array(arr, copy\u001B[38;5;241m=\u001B[39m\u001B[38;5;28;01mFalse\u001B[39;00m, subok\u001B[38;5;241m=\u001B[39m\u001B[38;5;28;01mTrue\u001B[39;00m, ndmin\u001B[38;5;241m=\u001B[39m\u001B[38;5;241m2\u001B[39m)\u001B[38;5;241m.\u001B[39mT\n\u001B[0;32m    651\u001B[0m     arrays\u001B[38;5;241m.\u001B[39mappend(arr)\n\u001B[1;32m--> 652\u001B[0m \u001B[38;5;28;01mreturn\u001B[39;00m _nx\u001B[38;5;241m.\u001B[39mconcatenate(arrays, \u001B[38;5;241m1\u001B[39m)\n",
      "\u001B[1;31mValueError\u001B[0m: all the input array dimensions except for the concatenation axis must match exactly, but along dimension 0, the array at index 0 has size 4 and the array at index 1 has size 9"
     ]
    }
   ],
   "execution_count": 8
  },
  {
   "metadata": {},
   "cell_type": "code",
   "outputs": [],
   "execution_count": null,
   "source": "",
   "id": "7bbad0208bf6a6d1"
  }
 ],
 "metadata": {
  "kernelspec": {
   "display_name": "Python 3",
   "language": "python",
   "name": "python3"
  },
  "language_info": {
   "codemirror_mode": {
    "name": "ipython",
    "version": 2
   },
   "file_extension": ".py",
   "mimetype": "text/x-python",
   "name": "python",
   "nbconvert_exporter": "python",
   "pygments_lexer": "ipython2",
   "version": "2.7.6"
  }
 },
 "nbformat": 4,
 "nbformat_minor": 5
}

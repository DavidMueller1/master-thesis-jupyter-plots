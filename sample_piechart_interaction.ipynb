{
 "cells": [
  {
   "metadata": {},
   "cell_type": "markdown",
   "source": [
    "# First Piechart Example\n",
    "This is a work in progress.  I am trying to create a pie chart using matplotlib."
   ],
   "id": "65ddfdec0d490a80"
  },
  {
   "metadata": {
    "ExecuteTime": {
     "end_time": "2024-07-04T15:11:44.282374Z",
     "start_time": "2024-07-04T15:11:43.075474Z"
    }
   },
   "cell_type": "code",
   "source": [
    "import logging\n",
    "import matplotlib.pyplot as plt\n",
    "from collections import Counter\n",
    "import util.data_loader as data_loader\n",
    "import numpy as np\n",
    "import ipywidgets as widgets\n",
    "from ipywidgets import interactive, VBox, HBox, Output, Label, Text\n",
    "\n",
    "# Setup logging\n",
    "logging.basicConfig(level=logging.INFO)\n",
    "logger = logging.getLogger(__name__)\n",
    "\n",
    "# Some constants\n",
    "NUM_WEEKS = 3\n",
    "\n",
    "# # device_type = data_loader.Device[\"PLUG\"]\n",
    "# device_type = None\n",
    "# # unique_id = '13E56C4E1FD98745'  # Contact Sensor\n",
    "# # unique_id = '39C0AE0A9852E5EE'  # Plug\n",
    "# unique_id = None  # None\n",
    "\n",
    "# Create a mapping dictionary for privacyState values\n",
    "change_type_mapping = {\n",
    "    data_loader.ChangeType[\"PRIVACY_STATE_HUB\"]: 'Hub',\n",
    "    data_loader.ChangeType[\"PRIVACY_STATE_PROXY\"]: 'Dashboard',\n",
    "}\n",
    "\n",
    "# Create a color mapping dictionary for privacyState values\n",
    "color_mapping = {\n",
    "    'Hub': '#3c8eae',\n",
    "    'Dashboard': '#414141',\n",
    "}\n",
    "\n",
    "# Custom function to display the absolute count and percentage\n",
    "def autopct_format(values):\n",
    "    def my_autopct(pct):\n",
    "        total = sum(values)\n",
    "        val = int(round(pct * total / 100.0))\n",
    "        return f'{pct:.1f}% ({val:d})'\n",
    "    return my_autopct\n",
    "\n",
    "\n",
    "def update_plot(custom_id, **kwargs):\n",
    "    weeks = [int(key.split('_')[1]) for key, value in kwargs.items() if key.startswith('week_') and value]\n",
    "    if len(weeks) == 0:\n",
    "        weeks = list(range(1, NUM_WEEKS + 1))\n",
    "        \n",
    "    device_types = [int(key.split('_')[1]) for key, value in kwargs.items() if key.startswith('devicetype_') and value]\n",
    "    \n",
    "    # weeks = [key for key, value in kwargs.items() if value]\n",
    "    logger.info(f'Selected weeks: {weeks}')\n",
    "    logger.info(f'Selected device types: {device_types}')\n",
    "    \n",
    "    data = data_loader.load_data(\n",
    "        weeks=weeks,\n",
    "        device_types=device_types,\n",
    "        unique_id=custom_id,\n",
    "        change_types=[data_loader.ChangeType[\"PRIVACY_STATE_HUB\"], data_loader.ChangeType[\"PRIVACY_STATE_PROXY\"]]\n",
    "    )\n",
    "    \n",
    "    logger.info(f'Loaded {len(data)} records')\n",
    "    \n",
    "    # Extract privacyState values\n",
    "    change_types = [change_type_mapping[item['changeType']] for item in data]\n",
    "    \n",
    "    # Count occurrences of each privacyState\n",
    "    privacy_state_counts = Counter(change_types)\n",
    "    \n",
    "    # Prepare data for pie chart\n",
    "    labels = privacy_state_counts.keys()\n",
    "    sizes = privacy_state_counts.values()\n",
    "    \n",
    "    # Get the corresponding colors for each label\n",
    "    colors = [color_mapping[label] for label in labels]\n",
    "\n",
    "    # Create the pie chart\n",
    "    plt.figure(figsize=(8, 8))\n",
    "    plt.pie(sizes, labels=labels, autopct=autopct_format(sizes), startangle=140, colors=colors)\n",
    "    # plt.title(f'Distribution of Change Location in Week 1 - {data_loader.device_name_mapping[device_type]}')\n",
    "    # plt.title(f'Distribution of Change Location in Week(s) {\", \".join(weeks)} - {data_loader.device_name_mapping[device_type]}')\n",
    "    # plt.title(f'Distribution of Change Location in Week(s) {\", \".join(weeks)}')\n",
    "    plt.title(f'Distribution of Change Location')\n",
    "    plt.axis('equal')  # Equal aspect ratio ensures that pie is drawn as a circle.\n",
    "    \n",
    "    # plt.savefig('privacy_states_distribution.svg', format='svg')\n",
    "    plt.show()\n",
    "    \n",
    "\n",
    "# Create checkboxes for selected weeks\n",
    "week_numbers = np.arange(1, NUM_WEEKS + 1)\n",
    "weeks_checkboxes = {f'week_{str(week)}': widgets.Checkbox(description=str(week), value=True) for week in week_numbers}\n",
    "\n",
    "# Create checkboxes for device types\n",
    "device_ids = list(data_loader.Device.values())\n",
    "devices = [data_loader.device_name_mapping[x] for x in list(data_loader.Device.values())]\n",
    "device_type_checkboxes = {f'devicetype_{str(device_id)}': widgets.Checkbox(description=data_loader.device_name_mapping[device_id], value=True) for device_id in device_ids}\n",
    "\n",
    "# Create text input for custom ID\n",
    "custom_id_widget = Text(description='Custom ID:')\n",
    "\n",
    "# Create an interactive output\n",
    "interactive_plot = interactive(update_plot, custom_id=custom_id_widget, **weeks_checkboxes, **device_type_checkboxes)\n",
    "output = interactive_plot.children[-1]\n",
    "# output.layout.height = '400px'\n",
    "\n",
    "# Layout for inputs\n",
    "custom_id_layout = VBox([Label('Enter custom ID (ignores device type when set):'), custom_id_widget])\n",
    "\n",
    "# Layout for checkboxes\n",
    "weeks_checkbox_title = Label(\"Select weeks:\")\n",
    "weeks_checkbox_layout = VBox([weeks_checkbox_title] + [weeks_checkboxes[f'week_{str(week)}'] for week in week_numbers])\n",
    "\n",
    "device_types_checkbox_title = Label(\"Select device types:\")\n",
    "device_types_checkbox_layout = VBox([device_types_checkbox_title] + [device_type_checkboxes[f'devicetype_{str(device_id)}'] for device_id in device_ids])\n",
    "\n",
    "# Display the widgets and the plot\n",
    "display(custom_id_layout, weeks_checkbox_layout, device_types_checkbox_layout, output)\n"
   ],
   "id": "initial_id",
   "outputs": [
    {
     "data": {
      "text/plain": [
       "VBox(children=(Label(value='Enter custom ID (ignores device type when set):'), Text(value='', description='Cus…"
      ],
      "application/vnd.jupyter.widget-view+json": {
       "version_major": 2,
       "version_minor": 0,
       "model_id": "6d0ff363514d486aa77880475a174688"
      }
     },
     "metadata": {},
     "output_type": "display_data"
    },
    {
     "data": {
      "text/plain": [
       "VBox(children=(Label(value='Select weeks:'), Checkbox(value=True, description='1'), Checkbox(value=True, descr…"
      ],
      "application/vnd.jupyter.widget-view+json": {
       "version_major": 2,
       "version_minor": 0,
       "model_id": "aa1281da3c3c47499e0c22a8786c104f"
      }
     },
     "metadata": {},
     "output_type": "display_data"
    },
    {
     "data": {
      "text/plain": [
       "VBox(children=(Label(value='Select device types:'), Checkbox(value=True, description='Contact Sensor'), Checkb…"
      ],
      "application/vnd.jupyter.widget-view+json": {
       "version_major": 2,
       "version_minor": 0,
       "model_id": "ca0d03d7b3f940d581d6072529d8c9e6"
      }
     },
     "metadata": {},
     "output_type": "display_data"
    },
    {
     "data": {
      "text/plain": [
       "Output()"
      ],
      "application/vnd.jupyter.widget-view+json": {
       "version_major": 2,
       "version_minor": 0,
       "model_id": "c4148b6989cb429187cddb2e21e585d2"
      }
     },
     "metadata": {},
     "output_type": "display_data"
    }
   ],
   "execution_count": 1
  },
  {
   "metadata": {},
   "cell_type": "code",
   "source": "",
   "id": "c349a623ee1cdc5c",
   "outputs": [],
   "execution_count": null
  },
  {
   "metadata": {},
   "cell_type": "code",
   "source": "",
   "id": "728671814b807551",
   "outputs": [],
   "execution_count": null
  }
 ],
 "metadata": {
  "kernelspec": {
   "display_name": "Python 3",
   "language": "python",
   "name": "python3"
  },
  "language_info": {
   "codemirror_mode": {
    "name": "ipython",
    "version": 2
   },
   "file_extension": ".py",
   "mimetype": "text/x-python",
   "name": "python",
   "nbconvert_exporter": "python",
   "pygments_lexer": "ipython2",
   "version": "2.7.6"
  }
 },
 "nbformat": 4,
 "nbformat_minor": 5
}

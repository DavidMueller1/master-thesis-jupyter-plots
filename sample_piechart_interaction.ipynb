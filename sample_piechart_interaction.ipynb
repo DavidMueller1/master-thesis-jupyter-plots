{
 "cells": [
  {
   "metadata": {},
   "cell_type": "markdown",
   "source": [
    "# First Piechart Example\n",
    "This is a work in progress.  I am trying to create a pie chart using matplotlib."
   ],
   "id": "65ddfdec0d490a80"
  },
  {
   "metadata": {
    "ExecuteTime": {
     "end_time": "2024-07-04T14:37:22.473464Z",
     "start_time": "2024-07-04T14:37:22.278450Z"
    }
   },
   "cell_type": "code",
   "source": [
    "import logging\n",
    "import matplotlib.pyplot as plt\n",
    "from collections import Counter\n",
    "import util.data_loader as data_loader\n",
    "import numpy as np\n",
    "import ipywidgets as widgets\n",
    "from ipywidgets import interactive, VBox, HBox, Output, Label\n",
    "\n",
    "# Setup logging\n",
    "logging.basicConfig(level=logging.INFO)\n",
    "logger = logging.getLogger(__name__)\n",
    "\n",
    "# Some constants\n",
    "NUM_WEEKS = 3\n",
    "\n",
    "# device_type = data_loader.Device[\"PLUG\"]\n",
    "device_type = None\n",
    "# unique_id = '13E56C4E1FD98745'  # Contact Sensor\n",
    "# unique_id = '39C0AE0A9852E5EE'  # Plug\n",
    "unique_id = None  # None\n",
    "\n",
    "# Create a mapping dictionary for privacyState values\n",
    "change_type_mapping = {\n",
    "    data_loader.ChangeType[\"PRIVACY_STATE_HUB\"]: 'Hub',\n",
    "    data_loader.ChangeType[\"PRIVACY_STATE_PROXY\"]: 'Dashboard',\n",
    "}\n",
    "\n",
    "# Create a color mapping dictionary for privacyState values\n",
    "color_mapping = {\n",
    "    'Hub': '#3c8eae',\n",
    "    'Dashboard': '#414141',\n",
    "}\n",
    "\n",
    "# Custom function to display the absolute count and percentage\n",
    "def autopct_format(values):\n",
    "    def my_autopct(pct):\n",
    "        total = sum(values)\n",
    "        val = int(round(pct * total / 100.0))\n",
    "        return f'{pct:.1f}% ({val:d})'\n",
    "    return my_autopct\n",
    "\n",
    "\n",
    "def update_plot(**kwargs):\n",
    "    weeks = [key for key, value in kwargs.items() if value]\n",
    "    logger.info(f'Selected weeks: {weeks}')\n",
    "    \n",
    "    data = data_loader.load_data(\n",
    "        weeks=weeks,\n",
    "        device_types=device_type,\n",
    "        unique_id=unique_id,\n",
    "        change_types=[data_loader.ChangeType[\"PRIVACY_STATE_HUB\"], data_loader.ChangeType[\"PRIVACY_STATE_PROXY\"]]\n",
    "    )\n",
    "    \n",
    "    logger.info(f'Loaded {len(data)} records')\n",
    "    \n",
    "    # Extract privacyState values\n",
    "    change_types = [change_type_mapping[item['changeType']] for item in data]\n",
    "    \n",
    "    # Count occurrences of each privacyState\n",
    "    privacy_state_counts = Counter(change_types)\n",
    "    \n",
    "    # Prepare data for pie chart\n",
    "    labels = privacy_state_counts.keys()\n",
    "    sizes = privacy_state_counts.values()\n",
    "    \n",
    "    # Get the corresponding colors for each label\n",
    "    colors = [color_mapping[label] for label in labels]\n",
    "\n",
    "    # Create the pie chart\n",
    "    plt.figure(figsize=(8, 8))\n",
    "    logger.info('1')\n",
    "    plt.pie(sizes, labels=labels, autopct=autopct_format(sizes), startangle=140, colors=colors)\n",
    "    logger.info('2')\n",
    "    # plt.title(f'Distribution of Change Location in Week 1 - {data_loader.device_name_mapping[device_type]}')\n",
    "    # plt.title(f'Distribution of Change Location in Week(s) {\", \".join(weeks)} - {data_loader.device_name_mapping[device_type]}')\n",
    "    plt.title(f'Distribution of Change Location in Week(s) {\", \".join(weeks)}')\n",
    "    logger.info('3')\n",
    "    plt.axis('equal')  # Equal aspect ratio ensures that pie is drawn as a circle.\n",
    "    logger.info('Displaying the pie chart')\n",
    "    \n",
    "    # plt.savefig('privacy_states_distribution.svg', format='svg')\n",
    "    plt.show()\n",
    "    \n",
    "\n",
    "# Create checkboxes for selected weeks\n",
    "week_numbers = np.arange(1, NUM_WEEKS + 1)\n",
    "checkboxes = {str(week): widgets.Checkbox(description=str(week), value=True) for week in week_numbers}\n",
    "\n",
    "# Create an interactive output\n",
    "interactive_plot = interactive(update_plot, **checkboxes)\n",
    "output = interactive_plot.children[-1]\n",
    "# output.layout.height = '400px'\n",
    "\n",
    "# Layout for checkboxes\n",
    "weeks_checkbox_title = Label(\"Select weeks:\")\n",
    "weeks_checkbox_layout = VBox([weeks_checkbox_title] + [checkboxes[str(week)] for week in week_numbers])\n",
    "\n",
    "# Display the widgets and the plot\n",
    "display(weeks_checkbox_layout, output)\n",
    "\n"
   ],
   "id": "initial_id",
   "outputs": [
    {
     "data": {
      "text/plain": [
       "VBox(children=(Label(value='Select weeks:'), Checkbox(value=True, description='1'), Checkbox(value=True, descr…"
      ],
      "application/vnd.jupyter.widget-view+json": {
       "version_major": 2,
       "version_minor": 0,
       "model_id": "e8633a391ab4412d8493fbc651834f79"
      }
     },
     "metadata": {},
     "output_type": "display_data"
    },
    {
     "data": {
      "text/plain": [
       "Output()"
      ],
      "application/vnd.jupyter.widget-view+json": {
       "version_major": 2,
       "version_minor": 0,
       "model_id": "69a357a5d531499780d70f00991cd833"
      }
     },
     "metadata": {},
     "output_type": "display_data"
    }
   ],
   "execution_count": 7
  },
  {
   "metadata": {},
   "cell_type": "code",
   "source": "",
   "id": "c349a623ee1cdc5c",
   "outputs": [],
   "execution_count": null
  },
  {
   "metadata": {},
   "cell_type": "code",
   "source": "",
   "id": "728671814b807551",
   "outputs": [],
   "execution_count": null
  }
 ],
 "metadata": {
  "kernelspec": {
   "display_name": "Python 3",
   "language": "python",
   "name": "python3"
  },
  "language_info": {
   "codemirror_mode": {
    "name": "ipython",
    "version": 2
   },
   "file_extension": ".py",
   "mimetype": "text/x-python",
   "name": "python",
   "nbconvert_exporter": "python",
   "pygments_lexer": "ipython2",
   "version": "2.7.6"
  }
 },
 "nbformat": 4,
 "nbformat_minor": 5
}
